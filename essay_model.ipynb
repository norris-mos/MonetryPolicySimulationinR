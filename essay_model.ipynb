{
 "cells": [
  {
   "cell_type": "code",
   "execution_count": null,
   "id": "baad4b7c",
   "metadata": {
    "ExecuteTime": {
     "start_time": "2022-02-18T15:56:21.284Z"
    }
   },
   "outputs": [],
   "source": [
    "rm(list=ls(all=T))"
   ]
  },
  {
   "cell_type": "code",
   "execution_count": 3,
   "id": "30991986",
   "metadata": {
    "ExecuteTime": {
     "end_time": "2022-03-23T18:26:34.676126Z",
     "start_time": "2022-03-23T18:26:25.745Z"
    }
   },
   "outputs": [
    {
     "name": "stderr",
     "output_type": "stream",
     "text": [
      "Updating HTML index of packages in '.Library'\n",
      "\n",
      "Making 'packages.html' ...\n",
      " done\n",
      "\n"
     ]
    }
   ],
   "source": [
    "install.packages(\"plotrix\")             # Install plotrix package\n",
    "library(\"plotrix\")                      # Load plotrix package"
   ]
  },
  {
   "cell_type": "code",
   "execution_count": 6,
   "id": "6581f051",
   "metadata": {
    "ExecuteTime": {
     "end_time": "2022-03-23T19:52:44.828874Z",
     "start_time": "2022-03-23T19:52:44.812Z"
    }
   },
   "outputs": [],
   "source": [
    "y<-vector(length=20)\n",
    "r<-vector(length=20)\n",
    "π<-vector(length=20)"
   ]
  },
  {
   "cell_type": "code",
   "execution_count": null,
   "id": "58299ff6",
   "metadata": {
    "ExecuteTime": {
     "end_time": "2022-02-18T14:54:59.189613Z",
     "start_time": "2022-02-18T14:54:59.136Z"
    }
   },
   "outputs": [],
   "source": []
  },
  {
   "cell_type": "code",
   "execution_count": 7,
   "id": "abd95b26",
   "metadata": {
    "ExecuteTime": {
     "end_time": "2022-03-23T19:53:13.000914Z",
     "start_time": "2022-03-23T19:53:12.980Z"
    }
   },
   "outputs": [],
   "source": [
    "A<-1.1\n",
    "α=β=1\n",
    "γ=2\n",
    "π_T=0.02\n",
    "y=1\n",
    "y_t1=y\n",
    "π[1]=π_T\n",
    "ρ=A-y/γ\n",
    "\n"
   ]
  },
  {
   "cell_type": "code",
   "execution_count": 10,
   "id": "dcd98ce4",
   "metadata": {
    "ExecuteTime": {
     "end_time": "2022-03-23T19:53:28.869904Z",
     "start_time": "2022-03-23T19:53:28.854Z"
    }
   },
   "outputs": [],
   "source": [
    "y<-vector(length=20)\n",
    "r<-vector(length=20)\n",
    "π<-vector(length=20)\n",
    "taylor<-vector(length=20)"
   ]
  },
  {
   "cell_type": "code",
   "execution_count": 11,
   "id": "41d9cdfd",
   "metadata": {
    "ExecuteTime": {
     "end_time": "2022-03-23T19:53:29.796194Z",
     "start_time": "2022-03-23T19:53:29.775Z"
    }
   },
   "outputs": [],
   "source": [
    "a<-1.1\n",
    "α<-β<-1\n",
    "γ<-2\n",
    "π_T<-0.02\n",
    "yε<-1\n",
    "y[1]<-yε\n",
    "π[1]<-π_T\n",
    "r[1]<-(a-yε)/γ"
   ]
  },
  {
   "cell_type": "code",
   "execution_count": 12,
   "id": "49a989c0",
   "metadata": {
    "ExecuteTime": {
     "end_time": "2022-03-23T19:53:30.766303Z",
     "start_time": "2022-03-23T19:53:30.745Z"
    }
   },
   "outputs": [
    {
     "data": {
      "text/html": [
       "<style>\n",
       ".list-inline {list-style: none; margin:0; padding: 0}\n",
       ".list-inline>li {display: inline-block}\n",
       ".list-inline>li:not(:last-child)::after {content: \"\\00b7\"; padding: 0 .5ex}\n",
       "</style>\n",
       "<ol class=list-inline><li>1</li><li>0</li><li>0</li><li>0</li><li>0</li><li>0</li><li>0</li><li>0</li><li>0</li><li>0</li><li>0</li><li>0</li><li>0</li><li>0</li><li>0</li><li>0</li><li>0</li><li>0</li><li>0</li><li>0</li></ol>\n"
      ],
      "text/latex": [
       "\\begin{enumerate*}\n",
       "\\item 1\n",
       "\\item 0\n",
       "\\item 0\n",
       "\\item 0\n",
       "\\item 0\n",
       "\\item 0\n",
       "\\item 0\n",
       "\\item 0\n",
       "\\item 0\n",
       "\\item 0\n",
       "\\item 0\n",
       "\\item 0\n",
       "\\item 0\n",
       "\\item 0\n",
       "\\item 0\n",
       "\\item 0\n",
       "\\item 0\n",
       "\\item 0\n",
       "\\item 0\n",
       "\\item 0\n",
       "\\end{enumerate*}\n"
      ],
      "text/markdown": [
       "1. 1\n",
       "2. 0\n",
       "3. 0\n",
       "4. 0\n",
       "5. 0\n",
       "6. 0\n",
       "7. 0\n",
       "8. 0\n",
       "9. 0\n",
       "10. 0\n",
       "11. 0\n",
       "12. 0\n",
       "13. 0\n",
       "14. 0\n",
       "15. 0\n",
       "16. 0\n",
       "17. 0\n",
       "18. 0\n",
       "19. 0\n",
       "20. 0\n",
       "\n",
       "\n"
      ],
      "text/plain": [
       " [1] 1 0 0 0 0 0 0 0 0 0 0 0 0 0 0 0 0 0 0 0"
      ]
     },
     "metadata": {},
     "output_type": "display_data"
    },
    {
     "data": {
      "text/html": [
       "<style>\n",
       ".list-inline {list-style: none; margin:0; padding: 0}\n",
       ".list-inline>li {display: inline-block}\n",
       ".list-inline>li:not(:last-child)::after {content: \"\\00b7\"; padding: 0 .5ex}\n",
       "</style>\n",
       "<ol class=list-inline><li>0.02</li><li>0</li><li>0</li><li>0</li><li>0</li><li>0</li><li>0</li><li>0</li><li>0</li><li>0</li><li>0</li><li>0</li><li>0</li><li>0</li><li>0</li><li>0</li><li>0</li><li>0</li><li>0</li><li>0</li></ol>\n"
      ],
      "text/latex": [
       "\\begin{enumerate*}\n",
       "\\item 0.02\n",
       "\\item 0\n",
       "\\item 0\n",
       "\\item 0\n",
       "\\item 0\n",
       "\\item 0\n",
       "\\item 0\n",
       "\\item 0\n",
       "\\item 0\n",
       "\\item 0\n",
       "\\item 0\n",
       "\\item 0\n",
       "\\item 0\n",
       "\\item 0\n",
       "\\item 0\n",
       "\\item 0\n",
       "\\item 0\n",
       "\\item 0\n",
       "\\item 0\n",
       "\\item 0\n",
       "\\end{enumerate*}\n"
      ],
      "text/markdown": [
       "1. 0.02\n",
       "2. 0\n",
       "3. 0\n",
       "4. 0\n",
       "5. 0\n",
       "6. 0\n",
       "7. 0\n",
       "8. 0\n",
       "9. 0\n",
       "10. 0\n",
       "11. 0\n",
       "12. 0\n",
       "13. 0\n",
       "14. 0\n",
       "15. 0\n",
       "16. 0\n",
       "17. 0\n",
       "18. 0\n",
       "19. 0\n",
       "20. 0\n",
       "\n",
       "\n"
      ],
      "text/plain": [
       " [1] 0.02 0.00 0.00 0.00 0.00 0.00 0.00 0.00 0.00 0.00 0.00 0.00 0.00 0.00 0.00\n",
       "[16] 0.00 0.00 0.00 0.00 0.00"
      ]
     },
     "metadata": {},
     "output_type": "display_data"
    },
    {
     "data": {
      "text/html": [
       "<style>\n",
       ".list-inline {list-style: none; margin:0; padding: 0}\n",
       ".list-inline>li {display: inline-block}\n",
       ".list-inline>li:not(:last-child)::after {content: \"\\00b7\"; padding: 0 .5ex}\n",
       "</style>\n",
       "<ol class=list-inline><li>0.05</li><li>0</li><li>0</li><li>0</li><li>0</li><li>0</li><li>0</li><li>0</li><li>0</li><li>0</li><li>0</li><li>0</li><li>0</li><li>0</li><li>0</li><li>0</li><li>0</li><li>0</li><li>0</li><li>0</li></ol>\n"
      ],
      "text/latex": [
       "\\begin{enumerate*}\n",
       "\\item 0.05\n",
       "\\item 0\n",
       "\\item 0\n",
       "\\item 0\n",
       "\\item 0\n",
       "\\item 0\n",
       "\\item 0\n",
       "\\item 0\n",
       "\\item 0\n",
       "\\item 0\n",
       "\\item 0\n",
       "\\item 0\n",
       "\\item 0\n",
       "\\item 0\n",
       "\\item 0\n",
       "\\item 0\n",
       "\\item 0\n",
       "\\item 0\n",
       "\\item 0\n",
       "\\item 0\n",
       "\\end{enumerate*}\n"
      ],
      "text/markdown": [
       "1. 0.05\n",
       "2. 0\n",
       "3. 0\n",
       "4. 0\n",
       "5. 0\n",
       "6. 0\n",
       "7. 0\n",
       "8. 0\n",
       "9. 0\n",
       "10. 0\n",
       "11. 0\n",
       "12. 0\n",
       "13. 0\n",
       "14. 0\n",
       "15. 0\n",
       "16. 0\n",
       "17. 0\n",
       "18. 0\n",
       "19. 0\n",
       "20. 0\n",
       "\n",
       "\n"
      ],
      "text/plain": [
       " [1] 0.05 0.00 0.00 0.00 0.00 0.00 0.00 0.00 0.00 0.00 0.00 0.00 0.00 0.00 0.00\n",
       "[16] 0.00 0.00 0.00 0.00 0.00"
      ]
     },
     "metadata": {},
     "output_type": "display_data"
    }
   ],
   "source": [
    "y\n",
    "π\n",
    "r"
   ]
  },
  {
   "cell_type": "code",
   "execution_count": 13,
   "id": "4ec5806c",
   "metadata": {
    "ExecuteTime": {
     "end_time": "2022-03-23T19:53:33.340337Z",
     "start_time": "2022-03-23T19:53:33.309Z"
    }
   },
   "outputs": [],
   "source": [
    "\n",
    "\n",
    "for(t in 2:20){\n",
    "    if(t<5){a<-1.1}else{a<-1.09}\n",
    "    #IS curve\n",
    "    y[t]<-a-(γ*r[t-1])\n",
    "    \n",
    "    #Philips curve\n",
    "    \n",
    "    \n",
    "    δy<-y[t]-yε\n",
    "    π[t]<-π[t-1]+(α*δy)\n",
    "    \n",
    "    #IR rule\n",
    "    δπ<-π[t]-π_T\n",
    "    p2<-(α*β*δπ)/((γ*1)+(γ*α^2*β))\n",
    "    \n",
    "    #taylor\n",
    "    taylor<-0.5*δπ^2+0.5*δy^2\n",
    "    \n",
    "    p1<-(a-yε)/γ\n",
    "    r[t]<-p1+p2\n",
    "    \n",
    "    \n",
    "\n",
    "}"
   ]
  },
  {
   "cell_type": "code",
   "execution_count": 14,
   "id": "c03dc0d2",
   "metadata": {
    "ExecuteTime": {
     "end_time": "2022-03-23T19:53:35.302467Z",
     "start_time": "2022-03-23T19:53:35.289Z"
    }
   },
   "outputs": [
    {
     "data": {
      "text/html": [
       "<style>\n",
       ".list-inline {list-style: none; margin:0; padding: 0}\n",
       ".list-inline>li {display: inline-block}\n",
       ".list-inline>li:not(:last-child)::after {content: \"\\00b7\"; padding: 0 .5ex}\n",
       "</style>\n",
       "<ol class=list-inline><li>0.02</li><li>0.02</li><li>0.02</li><li>0.02</li><li>0.00999999999999999</li><li>0.0149999999999999</li><li>0.0174999999999998</li><li>0.01875</li><li>0.0193749999999999</li><li>0.0196875000000001</li><li>0.0198437499999999</li><li>0.0199218749999998</li><li>0.0199609374999998</li><li>0.0199804687499998</li><li>0.019990234375</li><li>0.0199951171875001</li><li>0.0199975585937502</li><li>0.019998779296875</li><li>0.0199993896484376</li><li>0.0199996948242187</li></ol>\n"
      ],
      "text/latex": [
       "\\begin{enumerate*}\n",
       "\\item 0.02\n",
       "\\item 0.02\n",
       "\\item 0.02\n",
       "\\item 0.02\n",
       "\\item 0.00999999999999999\n",
       "\\item 0.0149999999999999\n",
       "\\item 0.0174999999999998\n",
       "\\item 0.01875\n",
       "\\item 0.0193749999999999\n",
       "\\item 0.0196875000000001\n",
       "\\item 0.0198437499999999\n",
       "\\item 0.0199218749999998\n",
       "\\item 0.0199609374999998\n",
       "\\item 0.0199804687499998\n",
       "\\item 0.019990234375\n",
       "\\item 0.0199951171875001\n",
       "\\item 0.0199975585937502\n",
       "\\item 0.019998779296875\n",
       "\\item 0.0199993896484376\n",
       "\\item 0.0199996948242187\n",
       "\\end{enumerate*}\n"
      ],
      "text/markdown": [
       "1. 0.02\n",
       "2. 0.02\n",
       "3. 0.02\n",
       "4. 0.02\n",
       "5. 0.00999999999999999\n",
       "6. 0.0149999999999999\n",
       "7. 0.0174999999999998\n",
       "8. 0.01875\n",
       "9. 0.0193749999999999\n",
       "10. 0.0196875000000001\n",
       "11. 0.0198437499999999\n",
       "12. 0.0199218749999998\n",
       "13. 0.0199609374999998\n",
       "14. 0.0199804687499998\n",
       "15. 0.019990234375\n",
       "16. 0.0199951171875001\n",
       "17. 0.0199975585937502\n",
       "18. 0.019998779296875\n",
       "19. 0.0199993896484376\n",
       "20. 0.0199996948242187\n",
       "\n",
       "\n"
      ],
      "text/plain": [
       " [1] 0.02000000 0.02000000 0.02000000 0.02000000 0.01000000 0.01500000\n",
       " [7] 0.01750000 0.01875000 0.01937500 0.01968750 0.01984375 0.01992187\n",
       "[13] 0.01996094 0.01998047 0.01999023 0.01999512 0.01999756 0.01999878\n",
       "[19] 0.01999939 0.01999969"
      ]
     },
     "metadata": {},
     "output_type": "display_data"
    }
   ],
   "source": [
    "π"
   ]
  },
  {
   "cell_type": "code",
   "execution_count": 15,
   "id": "98509b97",
   "metadata": {
    "ExecuteTime": {
     "end_time": "2022-03-23T19:53:36.731584Z",
     "start_time": "2022-03-23T19:53:36.718Z"
    }
   },
   "outputs": [
    {
     "data": {
      "text/html": [
       "<style>\n",
       ".list-inline {list-style: none; margin:0; padding: 0}\n",
       ".list-inline>li {display: inline-block}\n",
       ".list-inline>li:not(:last-child)::after {content: \"\\00b7\"; padding: 0 .5ex}\n",
       "</style>\n",
       "<ol class=list-inline><li>1</li><li>1</li><li>1</li><li>1</li><li>0.99</li><li>1.005</li><li>1.0025</li><li>1.00125</li><li>1.000625</li><li>1.0003125</li><li>1.00015625</li><li>1.000078125</li><li>1.0000390625</li><li>1.00001953125</li><li>1.000009765625</li><li>1.0000048828125</li><li>1.00000244140625</li><li>1.00000122070312</li><li>1.00000061035156</li><li>1.00000030517578</li></ol>\n"
      ],
      "text/latex": [
       "\\begin{enumerate*}\n",
       "\\item 1\n",
       "\\item 1\n",
       "\\item 1\n",
       "\\item 1\n",
       "\\item 0.99\n",
       "\\item 1.005\n",
       "\\item 1.0025\n",
       "\\item 1.00125\n",
       "\\item 1.000625\n",
       "\\item 1.0003125\n",
       "\\item 1.00015625\n",
       "\\item 1.000078125\n",
       "\\item 1.0000390625\n",
       "\\item 1.00001953125\n",
       "\\item 1.000009765625\n",
       "\\item 1.0000048828125\n",
       "\\item 1.00000244140625\n",
       "\\item 1.00000122070312\n",
       "\\item 1.00000061035156\n",
       "\\item 1.00000030517578\n",
       "\\end{enumerate*}\n"
      ],
      "text/markdown": [
       "1. 1\n",
       "2. 1\n",
       "3. 1\n",
       "4. 1\n",
       "5. 0.99\n",
       "6. 1.005\n",
       "7. 1.0025\n",
       "8. 1.00125\n",
       "9. 1.000625\n",
       "10. 1.0003125\n",
       "11. 1.00015625\n",
       "12. 1.000078125\n",
       "13. 1.0000390625\n",
       "14. 1.00001953125\n",
       "15. 1.000009765625\n",
       "16. 1.0000048828125\n",
       "17. 1.00000244140625\n",
       "18. 1.00000122070312\n",
       "19. 1.00000061035156\n",
       "20. 1.00000030517578\n",
       "\n",
       "\n"
      ],
      "text/plain": [
       " [1] 1.000000 1.000000 1.000000 1.000000 0.990000 1.005000 1.002500 1.001250\n",
       " [9] 1.000625 1.000313 1.000156 1.000078 1.000039 1.000020 1.000010 1.000005\n",
       "[17] 1.000002 1.000001 1.000001 1.000000"
      ]
     },
     "metadata": {},
     "output_type": "display_data"
    }
   ],
   "source": [
    "y"
   ]
  },
  {
   "cell_type": "code",
   "execution_count": 16,
   "id": "9c8aac89",
   "metadata": {
    "ExecuteTime": {
     "end_time": "2022-03-23T19:53:37.406356Z",
     "start_time": "2022-03-23T19:53:37.393Z"
    }
   },
   "outputs": [
    {
     "data": {
      "text/html": [
       "<style>\n",
       ".list-inline {list-style: none; margin:0; padding: 0}\n",
       ".list-inline>li {display: inline-block}\n",
       ".list-inline>li:not(:last-child)::after {content: \"\\00b7\"; padding: 0 .5ex}\n",
       "</style>\n",
       "<ol class=list-inline><li>0.05</li><li>0.05</li><li>0.05</li><li>0.05</li><li>0.0425</li><li>0.04375</li><li>0.044375</li><li>0.0446875</li><li>0.04484375</li><li>0.0449218750000001</li><li>0.0449609375</li><li>0.04498046875</li><li>0.044990234375</li><li>0.0449951171875</li><li>0.04499755859375</li><li>0.0449987792968751</li><li>0.0449993896484376</li><li>0.0449996948242188</li><li>0.0449998474121094</li><li>0.0449999237060547</li></ol>\n"
      ],
      "text/latex": [
       "\\begin{enumerate*}\n",
       "\\item 0.05\n",
       "\\item 0.05\n",
       "\\item 0.05\n",
       "\\item 0.05\n",
       "\\item 0.0425\n",
       "\\item 0.04375\n",
       "\\item 0.044375\n",
       "\\item 0.0446875\n",
       "\\item 0.04484375\n",
       "\\item 0.0449218750000001\n",
       "\\item 0.0449609375\n",
       "\\item 0.04498046875\n",
       "\\item 0.044990234375\n",
       "\\item 0.0449951171875\n",
       "\\item 0.04499755859375\n",
       "\\item 0.0449987792968751\n",
       "\\item 0.0449993896484376\n",
       "\\item 0.0449996948242188\n",
       "\\item 0.0449998474121094\n",
       "\\item 0.0449999237060547\n",
       "\\end{enumerate*}\n"
      ],
      "text/markdown": [
       "1. 0.05\n",
       "2. 0.05\n",
       "3. 0.05\n",
       "4. 0.05\n",
       "5. 0.0425\n",
       "6. 0.04375\n",
       "7. 0.044375\n",
       "8. 0.0446875\n",
       "9. 0.04484375\n",
       "10. 0.0449218750000001\n",
       "11. 0.0449609375\n",
       "12. 0.04498046875\n",
       "13. 0.044990234375\n",
       "14. 0.0449951171875\n",
       "15. 0.04499755859375\n",
       "16. 0.0449987792968751\n",
       "17. 0.0449993896484376\n",
       "18. 0.0449996948242188\n",
       "19. 0.0449998474121094\n",
       "20. 0.0449999237060547\n",
       "\n",
       "\n"
      ],
      "text/plain": [
       " [1] 0.05000000 0.05000000 0.05000000 0.05000000 0.04250000 0.04375000\n",
       " [7] 0.04437500 0.04468750 0.04484375 0.04492188 0.04496094 0.04498047\n",
       "[13] 0.04499023 0.04499512 0.04499756 0.04499878 0.04499939 0.04499969\n",
       "[19] 0.04499985 0.04499992"
      ]
     },
     "metadata": {},
     "output_type": "display_data"
    }
   ],
   "source": [
    "r"
   ]
  },
  {
   "cell_type": "code",
   "execution_count": 17,
   "id": "94bcb08a",
   "metadata": {
    "ExecuteTime": {
     "end_time": "2022-03-23T19:53:39.090524Z",
     "start_time": "2022-03-23T19:53:39.079Z"
    }
   },
   "outputs": [],
   "source": [
    "df <- data.frame(π,y,r)"
   ]
  },
  {
   "cell_type": "code",
   "execution_count": 18,
   "id": "0529698a",
   "metadata": {
    "ExecuteTime": {
     "end_time": "2022-03-23T19:53:44.818813Z",
     "start_time": "2022-03-23T19:53:44.795Z"
    }
   },
   "outputs": [
    {
     "data": {
      "text/html": [
       "<table class=\"dataframe\">\n",
       "<caption>A data.frame: 20 × 3</caption>\n",
       "<thead>\n",
       "\t<tr><th scope=col>π</th><th scope=col>y</th><th scope=col>r</th></tr>\n",
       "\t<tr><th scope=col>&lt;dbl&gt;</th><th scope=col>&lt;dbl&gt;</th><th scope=col>&lt;dbl&gt;</th></tr>\n",
       "</thead>\n",
       "<tbody>\n",
       "\t<tr><td>0.02000000</td><td>1.000000</td><td>0.05000000</td></tr>\n",
       "\t<tr><td>0.02000000</td><td>1.000000</td><td>0.05000000</td></tr>\n",
       "\t<tr><td>0.02000000</td><td>1.000000</td><td>0.05000000</td></tr>\n",
       "\t<tr><td>0.02000000</td><td>1.000000</td><td>0.05000000</td></tr>\n",
       "\t<tr><td>0.01000000</td><td>0.990000</td><td>0.04250000</td></tr>\n",
       "\t<tr><td>0.01500000</td><td>1.005000</td><td>0.04375000</td></tr>\n",
       "\t<tr><td>0.01750000</td><td>1.002500</td><td>0.04437500</td></tr>\n",
       "\t<tr><td>0.01875000</td><td>1.001250</td><td>0.04468750</td></tr>\n",
       "\t<tr><td>0.01937500</td><td>1.000625</td><td>0.04484375</td></tr>\n",
       "\t<tr><td>0.01968750</td><td>1.000313</td><td>0.04492188</td></tr>\n",
       "\t<tr><td>0.01984375</td><td>1.000156</td><td>0.04496094</td></tr>\n",
       "\t<tr><td>0.01992187</td><td>1.000078</td><td>0.04498047</td></tr>\n",
       "\t<tr><td>0.01996094</td><td>1.000039</td><td>0.04499023</td></tr>\n",
       "\t<tr><td>0.01998047</td><td>1.000020</td><td>0.04499512</td></tr>\n",
       "\t<tr><td>0.01999023</td><td>1.000010</td><td>0.04499756</td></tr>\n",
       "\t<tr><td>0.01999512</td><td>1.000005</td><td>0.04499878</td></tr>\n",
       "\t<tr><td>0.01999756</td><td>1.000002</td><td>0.04499939</td></tr>\n",
       "\t<tr><td>0.01999878</td><td>1.000001</td><td>0.04499969</td></tr>\n",
       "\t<tr><td>0.01999939</td><td>1.000001</td><td>0.04499985</td></tr>\n",
       "\t<tr><td>0.01999969</td><td>1.000000</td><td>0.04499992</td></tr>\n",
       "</tbody>\n",
       "</table>\n"
      ],
      "text/latex": [
       "A data.frame: 20 × 3\n",
       "\\begin{tabular}{lll}\n",
       " π & y & r\\\\\n",
       " <dbl> & <dbl> & <dbl>\\\\\n",
       "\\hline\n",
       "\t 0.02000000 & 1.000000 & 0.05000000\\\\\n",
       "\t 0.02000000 & 1.000000 & 0.05000000\\\\\n",
       "\t 0.02000000 & 1.000000 & 0.05000000\\\\\n",
       "\t 0.02000000 & 1.000000 & 0.05000000\\\\\n",
       "\t 0.01000000 & 0.990000 & 0.04250000\\\\\n",
       "\t 0.01500000 & 1.005000 & 0.04375000\\\\\n",
       "\t 0.01750000 & 1.002500 & 0.04437500\\\\\n",
       "\t 0.01875000 & 1.001250 & 0.04468750\\\\\n",
       "\t 0.01937500 & 1.000625 & 0.04484375\\\\\n",
       "\t 0.01968750 & 1.000313 & 0.04492188\\\\\n",
       "\t 0.01984375 & 1.000156 & 0.04496094\\\\\n",
       "\t 0.01992187 & 1.000078 & 0.04498047\\\\\n",
       "\t 0.01996094 & 1.000039 & 0.04499023\\\\\n",
       "\t 0.01998047 & 1.000020 & 0.04499512\\\\\n",
       "\t 0.01999023 & 1.000010 & 0.04499756\\\\\n",
       "\t 0.01999512 & 1.000005 & 0.04499878\\\\\n",
       "\t 0.01999756 & 1.000002 & 0.04499939\\\\\n",
       "\t 0.01999878 & 1.000001 & 0.04499969\\\\\n",
       "\t 0.01999939 & 1.000001 & 0.04499985\\\\\n",
       "\t 0.01999969 & 1.000000 & 0.04499992\\\\\n",
       "\\end{tabular}\n"
      ],
      "text/markdown": [
       "\n",
       "A data.frame: 20 × 3\n",
       "\n",
       "| π &lt;dbl&gt; | y &lt;dbl&gt; | r &lt;dbl&gt; |\n",
       "|---|---|---|\n",
       "| 0.02000000 | 1.000000 | 0.05000000 |\n",
       "| 0.02000000 | 1.000000 | 0.05000000 |\n",
       "| 0.02000000 | 1.000000 | 0.05000000 |\n",
       "| 0.02000000 | 1.000000 | 0.05000000 |\n",
       "| 0.01000000 | 0.990000 | 0.04250000 |\n",
       "| 0.01500000 | 1.005000 | 0.04375000 |\n",
       "| 0.01750000 | 1.002500 | 0.04437500 |\n",
       "| 0.01875000 | 1.001250 | 0.04468750 |\n",
       "| 0.01937500 | 1.000625 | 0.04484375 |\n",
       "| 0.01968750 | 1.000313 | 0.04492188 |\n",
       "| 0.01984375 | 1.000156 | 0.04496094 |\n",
       "| 0.01992187 | 1.000078 | 0.04498047 |\n",
       "| 0.01996094 | 1.000039 | 0.04499023 |\n",
       "| 0.01998047 | 1.000020 | 0.04499512 |\n",
       "| 0.01999023 | 1.000010 | 0.04499756 |\n",
       "| 0.01999512 | 1.000005 | 0.04499878 |\n",
       "| 0.01999756 | 1.000002 | 0.04499939 |\n",
       "| 0.01999878 | 1.000001 | 0.04499969 |\n",
       "| 0.01999939 | 1.000001 | 0.04499985 |\n",
       "| 0.01999969 | 1.000000 | 0.04499992 |\n",
       "\n"
      ],
      "text/plain": [
       "   π          y        r         \n",
       "1  0.02000000 1.000000 0.05000000\n",
       "2  0.02000000 1.000000 0.05000000\n",
       "3  0.02000000 1.000000 0.05000000\n",
       "4  0.02000000 1.000000 0.05000000\n",
       "5  0.01000000 0.990000 0.04250000\n",
       "6  0.01500000 1.005000 0.04375000\n",
       "7  0.01750000 1.002500 0.04437500\n",
       "8  0.01875000 1.001250 0.04468750\n",
       "9  0.01937500 1.000625 0.04484375\n",
       "10 0.01968750 1.000313 0.04492188\n",
       "11 0.01984375 1.000156 0.04496094\n",
       "12 0.01992187 1.000078 0.04498047\n",
       "13 0.01996094 1.000039 0.04499023\n",
       "14 0.01998047 1.000020 0.04499512\n",
       "15 0.01999023 1.000010 0.04499756\n",
       "16 0.01999512 1.000005 0.04499878\n",
       "17 0.01999756 1.000002 0.04499939\n",
       "18 0.01999878 1.000001 0.04499969\n",
       "19 0.01999939 1.000001 0.04499985\n",
       "20 0.01999969 1.000000 0.04499992"
      ]
     },
     "metadata": {},
     "output_type": "display_data"
    }
   ],
   "source": [
    "df"
   ]
  },
  {
   "cell_type": "code",
   "execution_count": 10,
   "id": "bd738781",
   "metadata": {
    "ExecuteTime": {
     "end_time": "2022-03-23T18:11:46.503107Z",
     "start_time": "2022-03-23T18:11:45.979Z"
    }
   },
   "outputs": [
    {
     "data": {
      "image/png": "[encoded data removed]",
      "text/plain": [
       "plot without title"
      ]
     },
     "metadata": {
      "image/png": {
       "height": 420,
       "width": 420
      }
     },
     "output_type": "display_data"
    }
   ],
   "source": [
    "plot (taylor,type=\"l\",xlab=\"Period\",ylab=\"taylor rule\")"
   ]
  },
  {
   "cell_type": "code",
   "execution_count": 11,
   "id": "108d1704",
   "metadata": {
    "ExecuteTime": {
     "end_time": "2022-03-23T18:11:46.591794Z",
     "start_time": "2022-03-23T18:11:46.300Z"
    }
   },
   "outputs": [
    {
     "data": {
      "image/png": "[encoded data removed]",
      "text/plain": [
       "plot without title"
      ]
     },
     "metadata": {
      "image/png": {
       "height": 420,
       "width": 420
      }
     },
     "output_type": "display_data"
    },
    {
     "name": "stderr",
     "output_type": "stream",
     "text": [
      "Warning message in title(...):\n",
      "“conversion failure on 'π' in 'mbcsToSbcs': dot substituted for <cf>”\n",
      "Warning message in title(...):\n",
      "“conversion failure on 'π' in 'mbcsToSbcs': dot substituted for <80>”\n"
     ]
    },
    {
     "data": {
      "image/png": "[encoded data removed]",
      "text/plain": [
       "plot without title"
      ]
     },
     "metadata": {
      "image/png": {
       "height": 420,
       "width": 420
      }
     },
     "output_type": "display_data"
    },
    {
     "data": {
      "image/png": "[encoded data removed]",
      "text/plain": [
       "plot without title"
      ]
     },
     "metadata": {
      "image/png": {
       "height": 420,
       "width": 420
      }
     },
     "output_type": "display_data"
    }
   ],
   "source": [
    "plot (y, type=\"l\", xlab= \"Period\", ylab= \"output\") \n",
    "plot (r, type=\"l\", xlab= \"Period\", ylab= \"rate\") \n",
    "plot (π, type=\"l\", xlab= \"Period\", ylab= \"π\")"
   ]
  },
  {
   "cell_type": "code",
   "execution_count": null,
   "id": "709cda9f",
   "metadata": {
    "ExecuteTime": {
     "start_time": "2022-03-23T18:11:47.267Z"
    }
   },
   "outputs": [
    {
     "name": "stderr",
     "output_type": "stream",
     "text": [
      "\n",
      "Listening on http://127.0.0.1:7823\n",
      "\n"
     ]
    },
    {
     "name": "stdout",
     "output_type": "stream",
     "text": [
      "[1] 0.045\n",
      "[1] 0.05\n",
      "[1] 0.05\n",
      "[1] 0.05\n",
      "[1] 0.045\n",
      "[1] 0.045\n",
      "[1] 0.045\n",
      "[1] 0.045\n",
      "[1] 0.045\n",
      "[1] 0.045\n",
      "[1] 0.045\n",
      "[1] 0.045\n",
      "[1] 0.045\n",
      "[1] 0.045\n",
      "[1] 0.045\n",
      "[1] 0.045\n",
      "[1] 0.045\n",
      "[1] 0.045\n",
      "[1] 0.045\n",
      "[1] 0.045\n",
      "[1] 0.05\n",
      "[1] 0.05\n",
      "[1] 0.05\n",
      "[1] 0.045\n",
      "[1] 0.045\n",
      "[1] 0.045\n",
      "[1] 0.045\n",
      "[1] 0.045\n",
      "[1] 0.045\n",
      "[1] 0.045\n",
      "[1] 0.045\n",
      "[1] 0.045\n",
      "[1] 0.045\n",
      "[1] 0.045\n",
      "[1] 0.045\n",
      "[1] 0.045\n",
      "[1] 0.045\n",
      "[1] 0.045\n",
      "[1] 0.045\n",
      "[1] 0.05\n",
      "[1] 0.05\n",
      "[1] 0.05\n",
      "[1] 0.045\n",
      "[1] 0.045\n",
      "[1] 0.045\n",
      "[1] 0.045\n",
      "[1] 0.045\n",
      "[1] 0.045\n",
      "[1] 0.045\n",
      "[1] 0.045\n",
      "[1] 0.045\n",
      "[1] 0.045\n",
      "[1] 0.045\n",
      "[1] 0.045\n",
      "[1] 0.045\n",
      "[1] 0.045\n",
      "[1] 0.045\n"
     ]
    }
   ],
   "source": [
    "library(shiny)\n",
    "runApp(\"/Users/maxoliverstapyltonnorris/3_equation_model/app.R\")"
   ]
  },
  {
   "cell_type": "code",
   "execution_count": 6,
   "id": "615c512a",
   "metadata": {
    "ExecuteTime": {
     "end_time": "2022-03-23T18:26:48.749989Z",
     "start_time": "2022-03-23T18:26:48.740Z"
    }
   },
   "outputs": [
    {
     "ename": "ERROR",
     "evalue": "Error in parse(text = x, srcfile = src): <text>:1:9: unexpected string constant\n1: Rscript \"app.R\"\n            ^\n",
     "output_type": "error",
     "traceback": [
      "Error in parse(text = x, srcfile = src): <text>:1:9: unexpected string constant\n1: Rscript \"app.R\"\n            ^\nTraceback:\n"
     ]
    }
   ],
   "source": [
    "Rscript \"app.R\""
   ]
  },
  {
   "cell_type": "code",
   "execution_count": null,
   "id": "2f7e20c2",
   "metadata": {},
   "outputs": [],
   "source": [
    "(Mankiw & Reis, 2002) and their SIPC also attempt to capture these forward expectations but align them empirically with persistence inflation. They incorporate a sticky information term ( ) that when paired with rational expectations provides a more accurate representation of the inflation process. The preceding discussion on how the PC fails to capture key elements of the inflation process such as persistence and expectation prompts further questioning on the resulting MP choice in light of these criticisms."
   ]
  },
  {
   "cell_type": "code",
   "execution_count": 1,
   "id": "715c8c1b",
   "metadata": {
    "ExecuteTime": {
     "end_time": "2022-03-23T18:32:40.111275Z",
     "start_time": "2022-03-23T18:32:38.979Z"
    }
   },
   "outputs": [],
   "source": [
    "rsconnect::setAccountInfo(name='macromodels', token='91C3CEBC51695003712D1139B5B81279', secret='YPANFDHI86rMxMAeIhammj9BYObb4mL5XpwDGF2z')"
   ]
  },
  {
   "cell_type": "code",
   "execution_count": 2,
   "id": "6eecae15",
   "metadata": {
    "ExecuteTime": {
     "end_time": "2022-03-23T18:34:09.782089Z",
     "start_time": "2022-03-23T18:34:08.478Z"
    }
   },
   "outputs": [],
   "source": [
    "rsconnect::setAccountInfo(name='macromodels', token='D33E5BF54EEFA78FA9401F694FE4FDD2', secret='t2o8t3fzVKQT5AUBXTAMIkNp77B8yEqzY766cifS')"
   ]
  },
  {
   "cell_type": "code",
   "execution_count": null,
   "id": "501fb938",
   "metadata": {
    "ExecuteTime": {
     "end_time": "2022-03-23T19:52:14.445249Z",
     "start_time": "2022-03-23T19:49:09.589Z"
    }
   },
   "outputs": [],
   "source": [
    "# Define UI for 3 equation\n",
    "\n",
    "library(shiny)\n",
    "\n",
    "ui<-pageWithSidebar(\n",
    "    \n",
    "    # App title\n",
    "    headerPanel('3 Equation Model'),\n",
    "    \n",
    "    \n",
    "    \n",
    "    # Sidebar panel for inputs\n",
    "    \n",
    "    sidebarPanel(\n",
    "        \n",
    "        numericInput('shock_time',\n",
    "                     'Shock to occur in time period:',\n",
    "                     5,\n",
    "                     min=0,\n",
    "                     max=20,\n",
    "                     step=0.5),\n",
    "                 \n",
    "                    \n",
    "        numericInput(\n",
    "            \n",
    "            \n",
    "            \"exogenous\",\n",
    "            \"A\",\n",
    "            1.09,\n",
    "            min = 0,\n",
    "            max = 10 ,\n",
    "            step = 0.01,),\n",
    "        numericInput(\n",
    "            \n",
    "            \n",
    "            \"alpha\",\n",
    "            \"α/β\",\n",
    "            1,\n",
    "            min = 0,\n",
    "            max = 10 ,\n",
    "            step = 1,),\n",
    "        \n",
    "        numericInput('gamma',\n",
    "                     'γ',\n",
    "                     2,\n",
    "                     min=0,\n",
    "                     max=20,\n",
    "                     step=1),\n",
    "        \n",
    "        numericInput('output_e',\n",
    "                     'Equilibrium output:',\n",
    "                     1,\n",
    "                     min=0,\n",
    "                     max=20,\n",
    "                     step=1)\n",
    "\n",
    "            \n",
    "\n",
    "            \n",
    "\n",
    "        \n",
    "    \n",
    "    ),\n",
    "    \n",
    "    \n",
    "    \n",
    "    \n",
    "    \n",
    "    \n",
    "    \n",
    "    #Main panel for outputs\n",
    "    \n",
    "    mainPanel(\"main panel\",\n",
    "              fluidRow(splitLayout(cellWidths=c(\"50%\",\"50%\",\"50%\"),plotOutput('plot_output'),plotOutput('plot_rate'),plotOutput('plot_inflation')))\n",
    "        \n",
    "\n",
    "    )\n",
    "    \n",
    "    \n",
    "    \n",
    "\n",
    ")\n",
    "server<-function(input,output) {\n",
    "    \n",
    "    output$plot_output<- renderPlot({\n",
    "        \n",
    "        \n",
    "    \n",
    "        y<-vector(length=20)\n",
    "        r<-vector(length=20)\n",
    "        π<-vector(length=20)\n",
    "        \n",
    "        a<-1.1\n",
    "        α<-β<-input$alpha\n",
    "        γ<-input$gamma\n",
    "        π_T<-0.02\n",
    "        yε<-input$output_e\n",
    "        y[1]<-yε\n",
    "        π[1]<-π_T\n",
    "        r[1]<-(a-yε)/γ\n",
    "        shock<-input$shock_time\n",
    "        for(t in 2:20){\n",
    "            if(t<shock){a<-1.1}else{a<-input$exogenous}\n",
    "            #IS curve\n",
    "            y[t]<-a-(γ*r[t-1])\n",
    "\n",
    "            #Philips curve\n",
    "\n",
    "\n",
    "            δy<-y[t]-yε\n",
    "            π[t]<-π[t-1]+(α*δy)\n",
    "\n",
    "            #IR rule\n",
    "            δπ<-π[t]-π_T\n",
    "            p2<-(α*β*δπ)/((γ*1)+(γ*α^2*β))\n",
    "            print(p1)\n",
    "            p1<-(a-yε)/γ\n",
    "            r[t]<-p1+p2\n",
    "            }\n",
    "    \n",
    "    \n",
    "\n",
    "\n",
    "        \n",
    "\n",
    "        plot(y,type='l',xlab='Period',ylab='Output')\n",
    "        \n",
    "        \n",
    "        \n",
    "        })\n",
    "    \n",
    "    \n",
    "    \n",
    "    \n",
    "    \n",
    "    output$plot_rate<- renderPlot({\n",
    "        \n",
    "        \n",
    "    \n",
    "        y<-vector(length=20)\n",
    "        r<-vector(length=20)\n",
    "        π<-vector(length=20)\n",
    "        \n",
    "        a<-1.1\n",
    "        α<-β<-input$alpha\n",
    "        γ<-input$gamma\n",
    "        π_T<-0.02\n",
    "        yε<-input$output_e\n",
    "        y[1]<-yε\n",
    "        π[1]<-π_T\n",
    "        r[1]<-(a-yε)/γ\n",
    "        shock<-input$shock_time\n",
    "        for(t in 2:20){\n",
    "            if(t<shock){a<-1.1}else{a<-input$exogenous}\n",
    "            #IS curve\n",
    "            y[t]<-a-(γ*r[t-1])\n",
    "\n",
    "            #Philips curve\n",
    "\n",
    "\n",
    "            δy<-y[t]-yε\n",
    "            π[t]<-π[t-1]+(α*δy)\n",
    "\n",
    "            #IR rule\n",
    "            δπ<-π[t]-π_T\n",
    "            p2<-(α*β*δπ)/((γ*1)+(γ*α^2*β))\n",
    "            print(p1)\n",
    "            p1<-(a-yε)/γ\n",
    "            r[t]<-p1+p2\n",
    "            }\n",
    "    \n",
    "    \n",
    "\n",
    "\n",
    "        \n",
    "\n",
    "        plot(r,type='l',xlab='Period',ylab='Rate')\n",
    "        \n",
    "        \n",
    "        \n",
    "        })\n",
    "    \n",
    "    output$plot_inflation<- renderPlot({\n",
    "        \n",
    "        \n",
    "    \n",
    "        y<-vector(length=20)\n",
    "        r<-vector(length=20)\n",
    "        π<-vector(length=20)\n",
    "        \n",
    "        a<-1.1\n",
    "        α<-β<-input$alpha\n",
    "        γ<-input$gamma\n",
    "        π_T<-0.02\n",
    "        yε<-input$output_e\n",
    "        y[1]<-yε\n",
    "        π[1]<-π_T\n",
    "        r[1]<-(a-yε)/γ\n",
    "        shock<-input$shock_time\n",
    "        for(t in 2:20){\n",
    "            if(t<shock){a<-1.1}else{a<-input$exogenous}\n",
    "            #IS curve\n",
    "            y[t]<-a-(γ*r[t-1])\n",
    "\n",
    "            #Philips curve\n",
    "\n",
    "\n",
    "            δy<-y[t]-yε\n",
    "            π[t]<-π[t-1]+(α*δy)\n",
    "\n",
    "            #IR rule\n",
    "            δπ<-π[t]-π_T\n",
    "            p2<-(α*β*δπ)/((γ*1)+(γ*α^2*β))\n",
    "            print(p1)\n",
    "            p1<-(a-yε)/γ\n",
    "            r[t]<-p1+p2\n",
    "            }\n",
    "    \n",
    "    \n",
    "\n",
    "\n",
    "        \n",
    "\n",
    "        plot(π,type='l',xlab='Period',ylab='π')\n",
    "        \n",
    "        \n",
    "        \n",
    "        })\n",
    "    \n",
    "    \n",
    "    \n",
    "    \n",
    "\n",
    "\n",
    "    \n",
    "\n",
    "    formulaText<-reactive({\n",
    "        paste('Shock at time ~',input$shock_time)\n",
    "        })\n",
    "    \n",
    "    \n",
    "    \n",
    "}\n",
    "shinyApp(ui,server)"
   ]
  },
  {
   "cell_type": "code",
   "execution_count": null,
   "id": "43b75468",
   "metadata": {},
   "outputs": [],
   "source": []
  }
 ],
 "metadata": {
  "kernelspec": {
   "display_name": "R",
   "language": "R",
   "name": "r"
  },
  "language_info": {
   "codemirror_mode": "r",
   "file_extension": ".r",
   "mimetype": "text/x-r-source",
   "name": "R",
   "pygments_lexer": "r",
   "version": "4.1.1"
  },
  "toc": {
   "base_numbering": 1,
   "nav_menu": {},
   "number_sections": true,
   "sideBar": true,
   "skip_h1_title": false,
   "title_cell": "Table of Contents",
   "title_sidebar": "Contents",
   "toc_cell": false,
   "toc_position": {},
   "toc_section_display": true,
   "toc_window_display": false
  }
 },
 "nbformat": 4,
 "nbformat_minor": 5
}
